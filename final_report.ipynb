{
 "cells": [
  {
   "cell_type": "markdown",
   "metadata": {},
   "source": [
    "# DB Experimental Analysis\n",
    "\n",
    "\n",
    "\n"
   ]
  },
  {
   "cell_type": "markdown",
   "metadata": {},
   "source": [
    "## Milestone 1"
   ]
  },
  {
   "cell_type": "markdown",
   "metadata": {},
   "source": [
    "### Experiment 1: How does data size affect performance?"
   ]
  },
  {
   "cell_type": "markdown",
   "metadata": {},
   "source": [
    "#### Experiment Setup\n",
    "#TODO: One paragraph about experiment setup\n",
    "We will run the same K queries for 3-10 different data sizes. We will measure the total response time for all K queries. We will increase the data size by 2-10x every time. We will have exactly the same conditions every time. We will judge success based on \"what we expect\".\n"
   ]
  },
  {
   "cell_type": "markdown",
   "metadata": {},
   "source": [
    "#### Result Graph & Explanation Graph\n",
    "\n",
    "TODO: One result graph (e.g., response time) and One explanation graph (e.g., cache misses)\n"
   ]
  },
  {
   "cell_type": "code",
   "execution_count": 1,
   "metadata": {},
   "outputs": [],
   "source": [
    "# some code"
   ]
  },
  {
   "cell_type": "markdown",
   "metadata": {},
   "source": [
    "#### Discussion\n",
    "\n",
    "TODO: One paragraph discussing the result graph\n",
    "\n",
    "TODO: One paragraph discussing the explanation graph\n"
   ]
  },
  {
   "cell_type": "markdown",
   "metadata": {},
   "source": []
  },
  {
   "cell_type": "markdown",
   "metadata": {},
   "source": [
    "### Experiment 2: How does basic statistics collection on fetch affect performance?\n",
    "\n",
    "Fetch with Stat collection vs. Fetch without Stat collection"
   ]
  },
  {
   "cell_type": "markdown",
   "metadata": {},
   "source": [
    "#### Experiment Setup\n",
    "#TODO: One paragraph about experiment setup\n",
    "We will run the same K queries for 3-10 different data sizes. We will measure the total response time for all K queries. We will increase the data size by 2-10x every time. We will have exactly the same conditions every time. We will judge success based on \"what we expect\".\n"
   ]
  },
  {
   "cell_type": "markdown",
   "metadata": {},
   "source": [
    "#### Result Graph & Explanation Graph\n",
    "\n",
    "TODO: One result graph (e.g., response time) and One explanation graph (e.g., cache misses)\n"
   ]
  },
  {
   "cell_type": "code",
   "execution_count": null,
   "metadata": {},
   "outputs": [],
   "source": [
    "# some code"
   ]
  },
  {
   "cell_type": "markdown",
   "metadata": {},
   "source": [
    "#### Discussion\n",
    "\n",
    "TODO: One paragraph discussing the result graph\n",
    "\n",
    "TODO: One paragraph discussing the explanation graph\n"
   ]
  },
  {
   "cell_type": "markdown",
   "metadata": {},
   "source": []
  },
  {
   "cell_type": "markdown",
   "metadata": {},
   "source": [
    "## Milestone 2"
   ]
  },
  {
   "cell_type": "markdown",
   "metadata": {},
   "source": [
    "### Experiment 3: How does the number of concurrent queries affect performance? (Single-core)\n",
    "\n",
    "1. For the same data size, try Z different batch sizes of queries\n",
    "2. Measure total response time for each batch size of queries\n",
    "How does the number of concurrent queries affect performance?\n",
    "3. Increase batch size by 2-10x every time\n",
    "4. Have exactly the same conditions every time\n",
    "5. Judge success based on “what we expect”\n",
    "6. Explain the results"
   ]
  },
  {
   "cell_type": "markdown",
   "metadata": {},
   "source": [
    "#### Experiment Setup\n",
    "#TODO: One paragraph about experiment setup\n",
    "We will run the same K queries for 3-10 different data sizes. We will measure the total response time for all K queries. We will increase the data size by 2-10x every time. We will have exactly the same conditions every time. We will judge success based on \"what we expect\".\n"
   ]
  },
  {
   "cell_type": "markdown",
   "metadata": {},
   "source": [
    "#### Result Graph & Explanation Graph\n",
    "\n",
    "TODO: One result graph (e.g., response time) and One explanation graph (e.g., cache misses)\n"
   ]
  },
  {
   "cell_type": "code",
   "execution_count": null,
   "metadata": {},
   "outputs": [],
   "source": [
    "# some code"
   ]
  },
  {
   "cell_type": "markdown",
   "metadata": {},
   "source": [
    "#### Discussion\n",
    "\n",
    "TODO: One paragraph discussing the result graph\n",
    "\n",
    "TODO: One paragraph discussing the explanation graph\n"
   ]
  },
  {
   "cell_type": "markdown",
   "metadata": {},
   "source": []
  },
  {
   "cell_type": "markdown",
   "metadata": {},
   "source": [
    "### Experiment 4: How does the number of concurrent queries affect performance? (Multi-core)"
   ]
  },
  {
   "cell_type": "markdown",
   "metadata": {},
   "source": [
    "#### Experiment Setup\n",
    "#TODO: One paragraph about experiment setup\n",
    "We will run the same K queries for 3-10 different data sizes. We will measure the total response time for all K queries. We will increase the data size by 2-10x every time. We will have exactly the same conditions every time. We will judge success based on \"what we expect\".\n"
   ]
  },
  {
   "cell_type": "markdown",
   "metadata": {},
   "source": [
    "#### Result Graph & Explanation Graph\n",
    "\n",
    "TODO: One result graph (e.g., response time) and One explanation graph (e.g., cache misses)\n"
   ]
  },
  {
   "cell_type": "code",
   "execution_count": null,
   "metadata": {},
   "outputs": [],
   "source": [
    "# some code"
   ]
  },
  {
   "cell_type": "markdown",
   "metadata": {},
   "source": [
    "#### Discussion\n",
    "\n",
    "TODO: One paragraph discussing the result graph\n",
    "\n",
    "TODO: One paragraph discussing the explanation graph\n"
   ]
  },
  {
   "cell_type": "markdown",
   "metadata": {},
   "source": []
  },
  {
   "cell_type": "markdown",
   "metadata": {},
   "source": [
    "## Milestone 3"
   ]
  },
  {
   "cell_type": "markdown",
   "metadata": {},
   "source": [
    "### Experiment 5: Scan vs. Index Selection"
   ]
  },
  {
   "cell_type": "markdown",
   "metadata": {},
   "source": [
    "#### Experiment Setup\n",
    "#TODO: One paragraph about experiment setup\n",
    "We will run the same K queries for 3-10 different data sizes. We will measure the total response time for all K queries. We will increase the data size by 2-10x every time. We will have exactly the same conditions every time. We will judge success based on \"what we expect\".\n"
   ]
  },
  {
   "cell_type": "markdown",
   "metadata": {},
   "source": [
    "#### Result Graph & Explanation Graph\n",
    "\n",
    "TODO: One result graph (e.g., response time) and One explanation graph (e.g., cache misses)\n"
   ]
  },
  {
   "cell_type": "code",
   "execution_count": null,
   "metadata": {},
   "outputs": [],
   "source": [
    "# some code"
   ]
  },
  {
   "cell_type": "markdown",
   "metadata": {},
   "source": [
    "#### Discussion\n",
    "\n",
    "TODO: One paragraph discussing the result graph\n",
    "\n",
    "TODO: One paragraph discussing the explanation graph\n"
   ]
  },
  {
   "cell_type": "markdown",
   "metadata": {},
   "source": []
  },
  {
   "cell_type": "markdown",
   "metadata": {},
   "source": [
    "### Experiment 6: Btree vs. Sorted Index Selection"
   ]
  },
  {
   "cell_type": "markdown",
   "metadata": {},
   "source": [
    "#### Experiment Setup\n",
    "#TODO: One paragraph about experiment setup\n",
    "We will run the same K queries for 3-10 different data sizes. We will measure the total response time for all K queries. We will increase the data size by 2-10x every time. We will have exactly the same conditions every time. We will judge success based on \"what we expect\".\n"
   ]
  },
  {
   "cell_type": "markdown",
   "metadata": {},
   "source": [
    "#### Result Graph & Explanation Graph\n",
    "\n",
    "TODO: One result graph (e.g., response time) and One explanation graph (e.g., cache misses)\n"
   ]
  },
  {
   "cell_type": "code",
   "execution_count": null,
   "metadata": {},
   "outputs": [],
   "source": [
    "# some code"
   ]
  },
  {
   "cell_type": "markdown",
   "metadata": {},
   "source": [
    "#### Discussion\n",
    "\n",
    "TODO: One paragraph discussing the result graph\n",
    "\n",
    "TODO: One paragraph discussing the explanation graph\n"
   ]
  },
  {
   "cell_type": "markdown",
   "metadata": {},
   "source": []
  },
  {
   "cell_type": "markdown",
   "metadata": {},
   "source": [
    "## Milestone 4"
   ]
  },
  {
   "cell_type": "markdown",
   "metadata": {},
   "source": []
  }
 ],
 "metadata": {
  "kernelspec": {
   "display_name": "Python 3",
   "language": "python",
   "name": "python3"
  },
  "language_info": {
   "codemirror_mode": {
    "name": "ipython",
    "version": 3
   },
   "file_extension": ".py",
   "mimetype": "text/x-python",
   "name": "python",
   "nbconvert_exporter": "python",
   "pygments_lexer": "ipython3",
   "version": "3.12.6"
  }
 },
 "nbformat": 4,
 "nbformat_minor": 2
}
